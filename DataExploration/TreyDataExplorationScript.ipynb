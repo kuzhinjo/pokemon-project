{
 "cells": [
  {
   "cell_type": "code",
   "execution_count": null,
   "metadata": {},
   "outputs": [],
   "source": [
    "import pandas as pd\n",
    "import datetime as dt\n",
    "%matplotlib inline\n",
    "\n",
    "df = pd.read_csv(\"pokemon.csv\")\n",
    "\n",
    "df.head()\n",
    "df.columns\n",
    "\n",
    "attack_df = df[[\"name\",\"type1\",\"base_happiness\"]]\n",
    "types = pd.unique(attack_df[\"type1\"])\n",
    "len(types)\n",
    "# attack_df.plot()\n",
    "\n",
    "len(df.loc[df['is_legendary'] == 1])\n",
    "\n",
    "attack_df.plot.scatter(x=\"base_happiness\", y = \"type1\", colormap='viridis')\n",
    "\n",
    "\n",
    "df[[\"capture_rate\", \"base_happiness\"]]"
   ]
  }
 ],
 "metadata": {
  "language_info": {
   "name": "python"
  },
  "orig_nbformat": 4
 },
 "nbformat": 4,
 "nbformat_minor": 2
}
